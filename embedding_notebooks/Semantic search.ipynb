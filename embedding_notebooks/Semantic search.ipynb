{
 "cells": [
  {
   "cell_type": "markdown",
   "id": "4b60b384",
   "metadata": {},
   "source": [
    "# Semantic search\n",
    "\n",
    "There are several use-cases where we might want to search amongst a large corpus of text. Examples include:\n",
    "- Powering a search engine\n",
    "- Detecting near duplicate texts for removal\n",
    "- Finding similar articles to reccomend to users\n",
    "- Retrieving factual information to use as context for a large language model\n",
    "\n",
    "By using embeddings we can encode our search query as a series of interconnected concepts rather than lexical symbols. This is what it means to capture the semantics of text. Let's look at how we can write python code to enable semantic search. We'll use OpenAI's embeddings along with the the python library annoy (approximate nearest neighbours) published by Spotify."
   ]
  },
  {
   "cell_type": "markdown",
   "id": "c8247280",
   "metadata": {},
   "source": [
    "# The dataset\n",
    "For our dataset we'll use texts about the movies from the marvel cinematic universe as taken from wikipedia. Let's load the article texts and also store the article names for later use."
   ]
  },
  {
   "cell_type": "code",
   "execution_count": 6,
   "id": "4777d5e9",
   "metadata": {},
   "outputs": [],
   "source": [
    "from glob import glob\n",
    "import os\n",
    "\n",
    "def read_text_file(filename: str) -> str:\n",
    "    with open(filename, 'r') as f:\n",
    "        return f.read()\n",
    "    \n",
    "    \n",
    "def extract_filename(path: str) -> str:\n",
    "    return os.path.basename(path)\n",
    "\n",
    "\n",
    "paths = glob('../datasets/marvel/*.txt')\n",
    "texts = {extract_filename(path): read_text_file(path) for path in paths}"
   ]
  },
  {
   "cell_type": "markdown",
   "id": "bfb1dfd6",
   "metadata": {},
   "source": [
    "# Loading OpenAI API key"
   ]
  },
  {
   "cell_type": "code",
   "execution_count": 10,
   "id": "8c4b4689",
   "metadata": {},
   "outputs": [],
   "source": [
    "import os\n",
    "from dotenv import load_dotenv\n",
    "from pathlib import Path\n",
    "\n",
    "# Path to the .env file in the parent directory\n",
    "env_path = Path(\"..\") / \".env\"\n",
    "\n",
    "# Load environment variables from .env file\n",
    "load_dotenv(dotenv_path=env_path)\n",
    "\n",
    "# Get the OpenAI API key from the environment variables\n",
    "openai_api_key = os.getenv(\"OPENAI_API_KEY\")"
   ]
  },
  {
   "cell_type": "markdown",
   "id": "03b398eb",
   "metadata": {},
   "source": [
    "# Retrieving OpenAI embeddings"
   ]
  },
  {
   "cell_type": "code",
   "execution_count": 11,
   "id": "6968dc65",
   "metadata": {},
   "outputs": [],
   "source": [
    "import openai\n",
    "import concurrent\n",
    "import numpy as np\n",
    "\n",
    "def get_embedding(text, model=\"text-embedding-ada-002\"):\n",
    "    return openai.Embedding.create(input=[text], model=model)['data'][0]['embedding']\n",
    "\n",
    "\n",
    "def parallel_embedding(text_list, model=\"text-embedding-ada-002\"):\n",
    "    # Create a ThreadPoolExecutor\n",
    "    with concurrent.futures.ThreadPoolExecutor(max_workers=100) as executor:\n",
    "        # Submit tasks to the executor and remember the order\n",
    "        futures = []\n",
    "        mapping = dict()\n",
    "        for i, text in enumerate(text_list):\n",
    "            future = executor.submit(get_embedding, text, model)\n",
    "            futures.append(future)\n",
    "            mapping[future] = i\n",
    "\n",
    "        # Retrieve results as they become available and sort their order\n",
    "        embeddings = [None] * len(futures)\n",
    "        for future in concurrent.futures.as_completed(futures):\n",
    "            embeddings[mapping[future]] = future.result()\n",
    "    return np.array(embeddings)"
   ]
  },
  {
   "cell_type": "markdown",
   "id": "2004f542",
   "metadata": {},
   "source": [
    "# Embedding our dataset\n",
    "Although we could look at methods to embed each article so as to create one dense vector per article, we need to consider the limitations of such an approach. Embedding models have a token limit but also embedding large texts results in a loss of granularity as the local information or specific details of the text may be averaged out or overshadowed by the dominant themes of the text.\n",
    "\n",
    "To capture the full meaning and context within our texts, it's essential to treat the text with care when dividing it for embedding. A naive approach might inadvertently slice a sentence in half, causing a loss of vital context. Imagine having a sentence where the first part poses a question and the second part delivers an answer. If these two segments were separated, the overall understanding of that information would be compromised.\n",
    "\n",
    "For our embedding process, we employ a strategy that aims to preserve context. We divide each article into segments containing 256 tokens. To achieve this, we implement a sliding window mechanism. The window spans 256 tokens of the text, and for each step, it moves by 192 tokens. This means that consecutive chunks will overlap by 64 tokens, ensuring that adjacent text segments share roughly one-quater of their content.\n",
    "\n",
    "We will also prepend the title of the article to add aditional context to the embeddings."
   ]
  },
  {
   "cell_type": "code",
   "execution_count": 12,
   "id": "4b8b8c5f",
   "metadata": {},
   "outputs": [
    {
     "name": "stdout",
     "output_type": "stream",
     "text": [
      "Created 2953 text chunks from 46 texts.\n",
      "Retrieved embeddings in 13.55s\n"
     ]
    }
   ],
   "source": [
    "import tiktoken\n",
    "import itertools\n",
    "import time\n",
    "import numpy as np\n",
    "\n",
    "\n",
    "def split_with_sliding_window(text: str, window_size: int = 256, stride: int = 192, model_name: str = \"text-embedding-ada-002\") -> list:\n",
    "    enc = tiktoken.encoding_for_model(model_name)\n",
    "    tokens = enc.encode(text)\n",
    "\n",
    "    chunks = []\n",
    "    current_position = 0\n",
    "\n",
    "    while current_position + window_size <= len(tokens):\n",
    "        chunk_tokens = tokens[current_position:current_position + window_size]\n",
    "        chunks.append(enc.decode(chunk_tokens))\n",
    "        current_position += stride\n",
    "\n",
    "    # Handle the tail if any tokens remain\n",
    "    if current_position < len(tokens):\n",
    "        chunks.append(enc.decode(tokens[-window_size:]))\n",
    "\n",
    "    return chunks\n",
    "\n",
    "\n",
    "text_chunks = list()\n",
    "for filename, text in texts.items():\n",
    "    template = 'Article title: \"\"\"{filename}\"\"\"\\nText: \"\"\"{text}\"\"\"'\n",
    "    for chunk in split_with_sliding_window(text):\n",
    "        text_chunks.append(template.format(filename=filename, text=chunk))\n",
    "        \n",
    "text_chunks = np.array(text_chunks)\n",
    "\n",
    "start_time = time.time()\n",
    "embeddings = parallel_embedding(text_chunks)\n",
    "duration = time.time() - start_time\n",
    "\n",
    "print(f'Created {len(text_chunks)} text chunks from {len(texts)} texts.')\n",
    "print(f'Retrieved embeddings in {round(duration, 2)}s')"
   ]
  },
  {
   "cell_type": "markdown",
   "id": "d13be504",
   "metadata": {},
   "source": [
    "# Creating the search index\n",
    "We use the annoy python library to build an efficient approximate nearest neighbours search index that we can use to search for embeddings similar to the embedding of our search query."
   ]
  },
  {
   "cell_type": "code",
   "execution_count": 13,
   "id": "af9f127b",
   "metadata": {},
   "outputs": [
    {
     "data": {
      "text/plain": [
       "True"
      ]
     },
     "execution_count": 13,
     "metadata": {},
     "output_type": "execute_result"
    }
   ],
   "source": [
    "from annoy import AnnoyIndex\n",
    "\n",
    "search_index = AnnoyIndex(embeddings.shape[1], 'angular')\n",
    "# Add all the vectors to the search index\n",
    "for i, embedding in enumerate(embeddings):\n",
    "    search_index.add_item(i, embedding)\n",
    "\n",
    "search_index.build(10) # 10 trees\n",
    "search_index.save('index.ann')"
   ]
  },
  {
   "cell_type": "code",
   "execution_count": 14,
   "id": "0f26263f",
   "metadata": {},
   "outputs": [],
   "source": [
    "import pandas as pd\n",
    "\n",
    "def search(query):\n",
    "    # Get the query's embedding\n",
    "    query_embedding = parallel_embedding([query])[0]\n",
    "\n",
    "    # Retrieve the nearest neighbors\n",
    "    similar_item_ids = search_index.get_nns_by_vector(\n",
    "        query_embedding,\n",
    "        3,\n",
    "        include_distances=True\n",
    "    )\n",
    "\n",
    "    # Format the results\n",
    "    results = pd.DataFrame(\n",
    "        data={\n",
    "            'texts': text_chunks[similar_item_ids[0]],\n",
    "            'distance': similar_item_ids[1]\n",
    "        }\n",
    "    )    \n",
    "    return results"
   ]
  },
  {
   "cell_type": "code",
   "execution_count": 19,
   "id": "8f7c854e",
   "metadata": {},
   "outputs": [
    {
     "name": "stdout",
     "output_type": "stream",
     "text": [
      "Article title: \"\"\"Iron Man 2.txt\"\"\"\n",
      "Text: \"\"\" and immediately set to work on producing a sequel. In July, Theroux was hired to write the script and Favreau was signed to return as director. Downey, Paltrow, and Jackson were set to reprise their roles from Iron Man, while Cheadle was brought in to replace Terrence Howard in the role of James Rhodes. In the early months of 2009, Rourke (Vanko), Rockwell, and Johansson filled out the supporting cast. Filming took place from April to July 2009, mostly in California as in the first film, except for a key sequence in Monaco. Unlike its predecessor, which mixed digital and practical effects, the sequel primarily relied on computer-generated imagery to create the Iron Man suits.\n",
      "\n",
      "Iron Man 2 premiered at the El Capitan Theatre in Los Angeles on April 26, 2010, and was released in the United States on May 7, as part of Phase One of the MCU. The film received praise for its action sequences and performances, although critics deemed it to be inferior to the first film. The sequel grossed over $623.9 million at the worldwide box office, making it the seventh-highest-grossing film of 2010. It received an Academy Award nomination\"\"\"\n",
      "\n",
      "Article title: \"\"\"Iron Man 2.txt\"\"\"\n",
      "Text: \"\"\"). This trailer was released online on December 16, 2009. A new trailer was shown by Robert Downey Jr. on Jimmy Kimmel Live! on March 7 after the Academy Awards.[98] Promotional partners included Symantec, Dr Pepper, Burger King, 7 Eleven, Audi, LG Electronics[99] and Hershey.[100]\n",
      "\n",
      "Author Alexander C. Irvine adapted the script into a novel, also titled Iron Man 2, that was released in April 2010.[101] Prior to the film release, Marvel Comics released a four-issue miniseries comic book titled Iron Man vs Whiplash, which introduced the film's version of Whiplash into the Marvel Universe.[102] A three-issue prequel miniseries titled Iron Man 2: Public Identity was released in April.[103][104][105]\n",
      "\n",
      "An Iron Man 2 video game was released by Sega on May 4, 2010, in North America,[106] written by The Invincible Iron Man scribe Matt Fraction.[107] The Wii version was developed by High Voltage Software and all console versions were published by Sega,[108] while Gameloft published the mobile game.[109] The game's Comic-Con trailer showed that the Crimson Dynamo was\"\"\"\n",
      "\n",
      "Article title: \"\"\"Iron Man 2.txt\"\"\"\n",
      "Text: \"\"\"2 premiered at the El Capitan Theatre in Los Angeles, California, on April 26, 2010,[114] and was released in 6,764 theaters (48 IMAX) across 54 countries between April 28 and May 7,[3][115][116] before going into general release in the United States on May 7, 2010.[115] In the United States, it opened at 4,380 theaters, 181 of which were IMAX.[117] The international release date of the film was moved forward to increase interest ahead of the 2010 FIFA World Cup association football tournament.[118] Iron Man 2 is part of Phase One of the MCU.[119]\n",
      "\n",
      "Home media\n",
      "On September 28, 2010, the film was released by Paramount Home Entertainment on DVD and Blu-ray.[120] The film was also collected in a 10-disc box set titled \"Marvel Cinematic Universe: Phase One – Avengers Assembled\", which includes all of the Phase One films in the Marvel Cinematic Universe.[121] It was released by Walt Disney Studios Home Entertainment on April 2, 2013.[122][123]\n",
      "\n",
      "Reception\n",
      "Box office\n",
      "Iron Man 2 earned $312.4 million in the\"\"\"\n"
     ]
    }
   ],
   "source": [
    "query = \"When was iron man 2 released?\"\n",
    "print(search(query).texts[0])\n",
    "print()\n",
    "print(search(query).texts[1])\n",
    "print()\n",
    "print(search(query).texts[2])"
   ]
  },
  {
   "cell_type": "code",
   "execution_count": 18,
   "id": "ecd700f1",
   "metadata": {},
   "outputs": [
    {
     "name": "stdout",
     "output_type": "stream",
     "text": [
      "Article title: \"\"\"Doctor Strange (2016 film).txt\"\"\"\n",
      "Text: \"\"\" projects.[102] Feige stated that a lead actor would be announced \"relatively quickly\",[103] and by the end of that month Joaquin Phoenix entered talks to play the character.[104][105]\n",
      "\n",
      "Marvel Studios was in negotiations by September 2014 to shoot Doctor Strange at Pinewood-Shepperton in England, with crews being assembled for a move into Shepperton Studios in late 2014/early 2015, for filming in May 2015.[106] Negotiations with Phoenix ended in October 2014,[107] as the actor felt that blockbuster films would never be \"fulfilling\", with \"too many requirements that went against [his] instincts for character.\"[108] Marvel then placed Leto, Ethan Hawke, Oscar Isaac, Ewan McGregor, Matthew McConaughey, Jake Gyllenhaal, Colin Farrell, and Keanu Reeves on their shortlist for the character.[109][110] Ryan Gosling also had discussions to play the character,[111] while Reeves was not approached about the role,[112] and Cumberbatch was still considered to be in contention.[109][110] In October, Cumberbatch entered negotiations to play the character,[113] and was officially cast in December.[\"\"\"\n",
      "\n",
      "Article title: \"\"\"Doctor Strange (2016 film).txt\"\"\"\n",
      "Text: \"\"\" write Doctor Strange.[82] While promoting Transformers: Dark of the Moon in April 2011, actor Patrick Dempsey indicated he was lobbying to play the title character.[83] In January 2013, Marvel Studios president Kevin Feige confirmed that Doctor Strange would appear in some capacity as part of Phase Three of the Marvel Cinematic Universe.[84] Feige then reiterated that a Doctor Strange feature film was in development at Marvel Studios that May,[85][86] and again in November.[87] In February 2014, The Hollywood Reporter wrote that Marvel was considering Mark Andrews, Jonathan Levine, Nikolaj Arcel and Dean Israelite to direct the film, and was considering Jonathan Aibel and Glenn Berger to rewrite the film's script.[88] Feige denied this report, but confirmed that Marvel was considering prospective candidates.[89] By March, Marvel was considering Andrews, Levine, and Scott Derrickson to direct the film.[90]\n",
      "\n",
      "Pre-production\n",
      "I think when you consider the work that I've done it makes sense that he'd be my favorite comic book character, at least in the Marvel universe. Probably the only comic character in that mainstream world that I'm suited to. I feel such an affinity for the character and the story and the ambition of those comics\"\"\"\n",
      "\n",
      "Article title: \"\"\"Doctor Strange (2016 film).txt\"\"\"\n",
      "Text: \"\"\"Doctor Strange is a 2016 American superhero film based on the Marvel Comics character of the same name. Produced by Marvel Studios and distributed by Walt Disney Studios Motion Pictures, it is the 14th film in the Marvel Cinematic Universe (MCU). The film was directed by Scott Derrickson from a screenplay he wrote with Jon Spaihts and C. Robert Cargill, and stars Benedict Cumberbatch as neurosurgeon Stephen Strange along with Chiwetel Ejiofor, Rachel McAdams, Benedict Wong, Michael Stuhlbarg, Benjamin Bratt, Scott Adkins, Mads Mikkelsen, and Tilda Swinton. In the film, Strange learns the mystic arts after a career-ending car crash.\n",
      "\n",
      "Various incarnations of a Doctor Strange film adaptation had been in development since the mid-1980s, until Paramount Pictures acquired the film rights in April 2005 on behalf of Marvel Studios. Thomas Dean Donnelly and Joshua Oppenheimer were brought on board in June 2010 to write a screenplay. In June 2014, Derrickson was hired to direct, with Spaihts re-writing the script. Cumberbatch was chosen for the eponymous role in December 2014, necessitating\"\"\"\n"
     ]
    }
   ],
   "source": [
    "query = \"Who plays doctor strange?\"\n",
    "print(search(query).texts[0])\n",
    "print()\n",
    "print(search(query).texts[1])\n",
    "print()\n",
    "print(search(query).texts[2])"
   ]
  },
  {
   "cell_type": "code",
   "execution_count": null,
   "id": "ab1d1bff",
   "metadata": {},
   "outputs": [],
   "source": []
  }
 ],
 "metadata": {
  "kernelspec": {
   "display_name": "Python 3 (ipykernel)",
   "language": "python",
   "name": "python3"
  },
  "language_info": {
   "codemirror_mode": {
    "name": "ipython",
    "version": 3
   },
   "file_extension": ".py",
   "mimetype": "text/x-python",
   "name": "python",
   "nbconvert_exporter": "python",
   "pygments_lexer": "ipython3",
   "version": "3.9.13"
  }
 },
 "nbformat": 4,
 "nbformat_minor": 5
}
